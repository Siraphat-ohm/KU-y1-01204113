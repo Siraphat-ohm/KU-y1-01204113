{
 "cells": [
  {
   "cell_type": "code",
   "execution_count": 32,
   "metadata": {},
   "outputs": [],
   "source": [
    "import json\n",
    "def read_json(filename):\n",
    "    with open(filename) as f:\n",
    "        data = f.read()\n",
    "        data = json.loads(data)\n",
    "    return data\n",
    "filename = \"IMDB_movies_merged.json\"\n",
    "data = read_json(filename)"
   ]
  },
  {
   "cell_type": "code",
   "execution_count": 94,
   "metadata": {},
   "outputs": [],
   "source": [
    "data = sorted(data, key=lambda x: float(x['ratingValue']) if x['ratingValue'] else 0, reverse=True )"
   ]
  },
  {
   "cell_type": "code",
   "execution_count": 99,
   "metadata": {},
   "outputs": [
    {
     "name": "stdout",
     "output_type": "stream",
     "text": [
      "Denis Villeneuve\n",
      "Emily Goldberg\n",
      "George Lucas\n",
      "Irvin Kershner\n",
      "Michel Parbot\n",
      "Richard Marquand\n",
      "Ridley Scott\n",
      "Robert Guenette\n",
      "Tony Miller\n"
     ]
    }
   ],
   "source": [
    "def q1():\n",
    "    ans = []\n",
    "    seen = []\n",
    "    for row in data:\n",
    "        if 'director' in row.keys() and 'cast' in row.keys() and row['ratingValue']:\n",
    "            if ( 'Steven Spielberg' not in row['director']['name']):\n",
    "                actors = list(map(lambda x: x['name'], row['cast']))\n",
    "                if (\"Harrison Ford\" in actors ):\n",
    "                    if (len(seen) > 5):\n",
    "                        ans.pop()\n",
    "                        break\n",
    "                    else:\n",
    "                        rating = float(row['ratingValue'])\n",
    "                        if ( rating not in seen ):\n",
    "                            seen.append(rating)\n",
    "                            ans.append( row['director']['name'])\n",
    "                        else :\n",
    "                            ans.append( row['director']['name'])\n",
    "    print(\"\\n\".join(sorted(ans)))\n",
    "q1()"
   ]
  },
  {
   "cell_type": "code",
   "execution_count": 58,
   "metadata": {},
   "outputs": [
    {
     "name": "stdout",
     "output_type": "stream",
     "text": [
      "The Fugitive\n"
     ]
    }
   ],
   "source": [
    "def q2():\n",
    "    for row in data:\n",
    "        if ( 'director' in row.keys() and 'cast' in row.keys( ) ):\n",
    "            if ( row['director']['name'] != 'Steven Spielberg' and row['director']['name'] != 'George Lucas' ):\n",
    "                actors = list(map(lambda x: x['name'], row['cast']))\n",
    "                if (\"Harrison Ford\" in actors and \"Tommy Lee Jones\" in actors):\n",
    "                    print(row['name'])\n",
    "                    break\n",
    "q2()"
   ]
  },
  {
   "cell_type": "code",
   "execution_count": null,
   "metadata": {},
   "outputs": [],
   "source": []
  }
 ],
 "metadata": {
  "kernelspec": {
   "display_name": "Python 3",
   "language": "python",
   "name": "python3"
  },
  "language_info": {
   "codemirror_mode": {
    "name": "ipython",
    "version": 3
   },
   "file_extension": ".py",
   "mimetype": "text/x-python",
   "name": "python",
   "nbconvert_exporter": "python",
   "pygments_lexer": "ipython3",
   "version": "3.12.5"
  }
 },
 "nbformat": 4,
 "nbformat_minor": 2
}
